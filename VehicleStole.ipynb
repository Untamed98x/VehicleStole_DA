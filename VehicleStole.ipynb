{
 "cells": [
  {
   "cell_type": "markdown",
   "metadata": {},
   "source": [
    "# Data Analysis Stolen Vehicle\n",
    "\n",
    "## Step 1: Import Necessary Libraries\n",
    "\n",
    "In this step, we import the required Python libraries, NumPy and pandas, for data manipulation and analysis."
   ]
  },
  {
   "cell_type": "code",
   "execution_count": null,
   "metadata": {},
   "outputs": [],
   "source": [
    "import numpy as np\n",
    "import pandas as pd"
   ]
  },
  {
   "cell_type": "markdown",
   "metadata": {},
   "source": [
    "## Step 2: Load the Dataset\n",
    "\n",
    "We specify the full path to the CSV file containing our dataset, which is stored at csv_file_path.\n",
    "The data is loaded from the CSV file into a pandas DataFrame using pd.read_csv(), with ',' (comma) as the delimiter."
   ]
  },
  {
   "cell_type": "code",
   "execution_count": null,
   "metadata": {},
   "outputs": [],
   "source": [
    "# Specify the full path to the CSV file\n",
    "csv_file_path = \"/Users/muhammadfauzy/Documents/1. FOLDER KERJAAN/1. Data Analyst /2. DataSet/DataSet Stolen Vehicle/StolenVehicles.csv\"\n",
    "\n",
    "# Load the data from the CSV file with ',' as the delimiter\n",
    "data = pd.read_csv(csv_file_path, sep=',')\n"
   ]
  },
  {
   "cell_type": "markdown",
   "metadata": {},
   "source": [
    "## Step 3: Print Headers\n",
    "\n",
    "In this step, we extract and print the column names (headers) of the DataFrame using data.columns."
   ]
  },
  {
   "cell_type": "code",
   "execution_count": null,
   "metadata": {},
   "outputs": [],
   "source": [
    "# Get the headers (column names) of the DataFrame\n",
    "headers = data.columns\n",
    "\n",
    "# Print the headers\n",
    "print(data.head(5))\n"
   ]
  },
  {
   "cell_type": "markdown",
   "metadata": {},
   "source": [
    "## Step 4: Check for Missing Values\n",
    "\n",
    "We perform missing value analysis on the dataset.\n",
    "data.isnull().sum() calculates the count of missing values in each column of the DataFrame.\n",
    "data['DateStolen'].isnull().sum() calculates the count of missing values specifically in the 'DateStolen' column."
   ]
  },
  {
   "cell_type": "code",
   "execution_count": null,
   "metadata": {},
   "outputs": [],
   "source": [
    "# Check for missing values in the entire DataFrame\n",
    "missing_values = data.isnull().sum()\n",
    "\n",
    "# Check for missing values in specific columns, e.g., 'DateStolen'\n",
    "missing_date_values = data['DateStolen'].isnull().sum()\n",
    "\n",
    "# Print the results\n",
    "print(\"Missing Values in the Entire DataFrame:\")\n",
    "print(missing_values)\n",
    "\n",
    "print(\"\\nMissing Values in 'DateStolen' Column:\")\n",
    "print(missing_date_values)\n"
   ]
  },
  {
   "cell_type": "markdown",
   "metadata": {},
   "source": [
    "Step 5 : Drop rows for missing value\n",
    "\n",
    "Using Drop Rows value because the missing value is isnt significant\n"
   ]
  },
  {
   "cell_type": "markdown",
   "metadata": {},
   "source": [
    "## Using API to get Latitude Data\n",
    "\n",
    "If you have the location names (city names) in your dataset and you want to obtain their corresponding geospatial coordinates (latitude and longitude) using an API, you can use a geocoding API service like the Google Maps Geocoding API or a similar service. Here's a general outline of how you can achieve this:\n",
    "\n",
    "1. **Obtain an API Key:**\n",
    "   - Sign up for an account with a geocoding service provider (e.g., Google Maps).\n",
    "   - Create a project and obtain an API key, which you'll use to make API requests.\n",
    "\n",
    "2. **Make API Requests:**\n",
    "   - Use Python to make API requests to the geocoding service provider's API.\n",
    "   - Pass the city names from your dataset as input to the API.\n",
    "   - Receive the geospatial coordinates (latitude and longitude) as the API response.\n",
    "\n",
    "3. **Update Your Dataset:**\n",
    "   - Add new columns for latitude and longitude to your dataset.\n",
    "   - Populate these columns with the geospatial coordinates obtained from the API.\n",
    "\n",
    "Here's an example of how you can use the Google Maps Geocoding API to obtain geospatial coordinates for city names and update your dataset:\n",
    "\n",
    "```python\n",
    "import requests\n",
    "import pandas as pd\n",
    "\n",
    "# Replace 'YOUR_API_KEY' with your actual Google Maps Geocoding API key\n",
    "api_key = 'YOUR_API_KEY'\n",
    "\n",
    "# Function to get geospatial coordinates for a given city name\n",
    "def get_coordinates(city_name):\n",
    "    url = f'https://maps.googleapis.com/maps/api/geocode/json?address={city_name}&key={api_key}'\n",
    "    response = requests.get(url)\n",
    "    data = response.json()\n",
    "    \n",
    "    if data['status'] == 'OK':\n",
    "        # Extract latitude and longitude from the API response\n",
    "        location = data['results'][0]['geometry']['location']\n",
    "        return location['lat'], location['lng']\n",
    "    else:\n",
    "        return None, None\n",
    "\n",
    "# Load your cleaned dataset into a DataFrame (assuming it contains a 'Location' column with city names)\n",
    "data_cleaned = pd.read_csv('your_cleaned_dataset.csv')\n",
    "\n",
    "# Create new columns for latitude and longitude\n",
    "data_cleaned['Latitude'] = None\n",
    "data_cleaned['Longitude'] = None\n",
    "\n",
    "# Iterate over the 'Location' column and get geospatial coordinates\n",
    "for index, row in data_cleaned.iterrows():\n",
    "    city_name = row['Location']\n",
    "    lat, lng = get_coordinates(city_name)\n",
    "    data_cleaned.at[index, 'Latitude'] = lat\n",
    "    data_cleaned.at[index, 'Longitude'] = lng\n",
    "\n",
    "# Save the updated dataset\n",
    "data_cleaned.to_csv('updated_dataset_with_coordinates.csv', index=False)\n",
    "```\n",
    "\n",
    "In this code:\n",
    "\n",
    "- You define a function `get_coordinates(city_name)` to make API requests to Google Maps Geocoding API and extract latitude and longitude.\n",
    "- You load your cleaned dataset and create new columns for latitude and longitude.\n",
    "- You iterate over the 'Location' column, call the API to get coordinates for each city name, and update the corresponding rows in the dataset.\n",
    "- Finally, you save the updated dataset with the geospatial coordinates to a new CSV file.\n",
    "\n",
    "Please ensure you have the necessary permissions and billing set up with the geocoding API service you choose to use."
   ]
  },
  {
   "cell_type": "markdown",
   "metadata": {},
   "source": []
  }
 ],
 "metadata": {
  "language_info": {
   "name": "python"
  },
  "orig_nbformat": 4
 },
 "nbformat": 4,
 "nbformat_minor": 2
}
